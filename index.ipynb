{
 "cells": [
  {
   "cell_type": "markdown",
   "metadata": {},
   "source": [
    "# R-squared or \"Co-efficient of Determination\"\n",
    "\n",
    "## SWBAT\n",
    "* Describe squared error as means to identify the difference between predicted and actual values\n",
    "\n",
    "* Calculate the co-efficient of deteremination (R-squared) for a given regression line\n",
    "\n",
    "* Verify calculations using built-in methods\n"
   ]
  },
  {
   "cell_type": "markdown",
   "metadata": {},
   "source": [
    "## Introduction: \n",
    "\n",
    "Once a regression model is created, we need to decide how \"accurate\" the regression line is to some degree. \n",
    "\n",
    "Recall the plots from previous labs, one would already begin to see how likely a best-fit line would be a good overall fit or not, such as in the case of:\n",
    "![](positive-correlation.png)\n",
    "\n",
    "compared to :\n",
    "\n",
    "![](no-correlation.png)"
   ]
  },
  {
   "cell_type": "markdown",
   "metadata": {},
   "source": [
    "in the second image, we can still calculate a best fit line using formulas shown earlier,  but it is going to be useless due to variance in data.\n",
    "\n",
    "The standard way to check for errors is by using **Squared Errors**. You will hear about this method as **R-squared** or the **Coefficient of determination**. So what is squared error?\n",
    "\n",
    "![](sum-sqaures.png)"
   ]
  },
  {
   "cell_type": "markdown",
   "metadata": {},
   "source": [
    "The distance between the regression line's y values, and the data's y values is the error, then we square that. The line's squared error is either a mean or a sum of this, we'll simply sum it. Sp, why are we squaring errors? Why not just adding them up? First, we want a way to normalize the error as a distance, so the error might be -5, but, when squared, that's a positive number.\n"
   ]
  },
  {
   "cell_type": "markdown",
   "metadata": {},
   "source": [
    "Squared error, however, is totally relative to the dataset, so we need something more. That's where \"r squared\" comes in, also called the \"coefficient of determination.\" The equation for this is:\n",
    "\n",
    "![](r-squared.png)"
   ]
  },
  {
   "cell_type": "markdown",
   "metadata": {},
   "source": [
    "The equation is essentially 1 minus the division of the **squared error of the regression (predicted) line**, by the **squared error of the mean y line**\n",
    ". \n",
    ">The mean y line is quite literally the mean of all of the y values from the dataset. Thus, we do the squared error of the average y, and of the regression line. \n",
    "\n",
    "The objective here is to learn how much of the error is actually just simply a result in variation in the data features, as opposed to being a result of the regression line being a poor fit."
   ]
  },
  {
   "cell_type": "markdown",
   "metadata": {},
   "source": [
    "## Programming R-squared\n",
    "\n",
    "Let's calculate R-squared in Python. The first step would be to calculate the squared error. Remember squared error is the sum of quares of difference between a given line and the ground truth (actual data points).\n",
    "\n",
    "Create a function that takes in y points of the original line and a regression line, calculates the difference between real and predicted values of y, squares and sums all the differences:"
   ]
  },
  {
   "cell_type": "markdown",
   "metadata": {},
   "source": [
    "Let's verify our reslut using SciPy stats `linregress()` for least square regression. Remember it returns all the values i.e. slope, intercept, r_value, p_value and std_err. We can take the square of r_value to calculate our r-squared. "
   ]
  },
  {
   "cell_type": "code",
   "execution_count": 2,
   "metadata": {},
   "outputs": [],
   "source": [
    "import numpy as np\n",
    "import matplotlib.pyplot as plt\n",
    "from scipy import stats\n",
    "\n",
    "# Initialize vectors X and Y with given values and create a scatter plot\n",
    "X = np.array([1,2,3,4,5,6,8,8,9,10], dtype=np.float64)\n",
    "Y = np.array([7,7,8,9,9,10,10,11,11,12], dtype=np.float64)\n",
    "\n",
    "\n",
    "# Use stats.linregress(dim1, dim2) to calculate slope, intercept, r_value, p_value, std_err\n",
    "# slope, intercept, r_value, p_value, std_err = None\n",
    "\n",
    "#Square the r value to get the r2\n",
    "\n",
    "\n",
    "#Plot the original data and fitted line using slope and intercept calculated above\n",
    "\n",
    "\n",
    "# 0.9520377384960723"
   ]
  },
  {
   "cell_type": "markdown",
   "metadata": {},
   "source": [
    "## Interpreting r-squared\n",
    "\n",
    "The definition of R-squared is fairly straight-forward; it is the percentage of the response variable variation that is explained by a linear model. Or:\n",
    "\n",
    "R-squared = Explained variation / Total variation\n",
    "\n",
    "R-squared is always between 0 and 1:\n",
    "\n",
    ">0 indicates that the model explains none of the variability of the response data around its mean.\n",
    "\n",
    ">1 indicates that the model explains all the variability of the response data around its mean. \n",
    "\n",
    "In above short example, the value or r-squared i.e. 0.97 indicates a very good fit for the regression line and the visualisation above further explains why that is the case. \n",
    "\n",
    "**Try above example with a set of points having high variability and comment on the results**"
   ]
  },
  {
   "cell_type": "markdown",
   "metadata": {},
   "source": [
    "## Summary\n",
    "\n",
    "In this lesson, we learnt to calculate R squared as a co-efficient of determination, indicating the variability of the chosen model. We Calculated the R-squared values by programming the formulas as a series of functions and also verified our results using SciPy. "
   ]
  }
 ],
 "metadata": {
  "kernelspec": {
   "display_name": "Python 3",
   "language": "python",
   "name": "python3"
  },
  "language_info": {
   "codemirror_mode": {
    "name": "ipython",
    "version": 3
   },
   "file_extension": ".py",
   "mimetype": "text/x-python",
   "name": "python",
   "nbconvert_exporter": "python",
   "pygments_lexer": "ipython3",
   "version": "3.6.4"
  }
 },
 "nbformat": 4,
 "nbformat_minor": 2
}
